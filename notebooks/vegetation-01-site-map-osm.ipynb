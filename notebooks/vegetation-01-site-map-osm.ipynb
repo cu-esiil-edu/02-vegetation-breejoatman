{
  "cells": [
    {
      "cell_type": "markdown",
      "id": "741bfe27-1cf9-4316-a0ed-1b227725a26a",
      "metadata": {},
      "source": [
        "# Water Rights Restored to the Gila River\n",
        "\n",
        "The impacts of irrigation on vegetation health in the Gila River Valley\n",
        "\n",
        "Elsa Culler  \n",
        "Nate Quarderer  \n",
        "2025-07-09\n",
        "\n",
        "# STEP 1: Site map\n",
        "\n",
        "# STEP 0: Set up\n",
        "\n",
        "To get started on this notebook, you’ll need to restore any variables\n",
        "from previous notebooks to your workspace. To save time and memory, make\n",
        "sure to specify which variables you want to load."
      ]
    },
    {
      "cell_type": "code",
      "execution_count": 1,
      "id": "068bf153",
      "metadata": {},
      "outputs": [],
      "source": [
        "%store -r"
      ]
    },
    {
      "cell_type": "markdown",
      "id": "0d21c57d-1681-4306-8298-5d92db7d1920",
      "metadata": {},
      "source": [
        "You will also need to import any libraries you are using in this\n",
        "notebook, since they won’t carry over from the previous notebook:"
      ]
    },
    {
      "cell_type": "code",
      "execution_count": null,
      "id": "fb5d5368",
      "metadata": {},
      "outputs": [],
      "source": [
        "# Import libraries\n",
        "import json\n",
        "from glob import glob\n",
        "\n",
        "import earthpy\n",
        "import hvplot.xarray\n",
        "import rioxarray as rxr\n",
        "import xarray as xr"
      ]
    },
    {
      "cell_type": "markdown",
      "id": "38b513bf-8128-41bf-8337-4ddc56013fd1",
      "metadata": {},
      "source": [
        "## Study Area: Al Jawf Region Saudi Arabia\n",
        "\n",
        "<link rel=\"stylesheet\" type=\"text/css\" href=\"./assets/styles.css\"><div class=\"callout callout-style-default callout-titled callout-respond\"><div class=\"callout-header\"><div class=\"callout-icon-container\"><i class=\"callout-icon\"></i></div><div class=\"callout-title-container flex-fill\">Reflect and Respond</div></div><div class=\"callout-body-container callout-body\"><p>For this coding challenge, we are interested in the boundary of the\n",
        "<span data-__quarto_custom=\"true\" data-__quarto_custom_type=\"Shortcode\"\n",
        "data-__quarto_custom_context=\"Inline\"\n",
        "data-__quarto_custom_id=\"2\"></span>, and the health of vegetation in the\n",
        "area measured on a scale from -1 to 1. In the cell below, answer the\n",
        "following question: <strong>What data type do you think the boundary\n",
        "will be? What about the vegetation health?</strong></p></div></div>"
      ]
    },
    {
      "cell_type": "markdown",
      "id": "50938163-2470-47db-bc45-d1afa5917845",
      "metadata": {},
      "source": [
        "YOUR ANSWER HERE"
      ]
    },
    {
      "cell_type": "markdown",
      "id": "419567db-41f5-498c-8b78-5cb3d4f92ed6",
      "metadata": {},
      "source": [
        "### Load the Al Jawf Region Saudi Arabia boundary\n",
        "\n",
        "<link rel=\"stylesheet\" type=\"text/css\" href=\"./assets/styles.css\"><div class=\"callout callout-style-default callout-titled callout-task\"><div class=\"callout-header\"><div class=\"callout-icon-container\"><i class=\"callout-icon\"></i></div><div class=\"callout-title-container flex-fill\">Try It</div></div><div class=\"callout-body-container callout-body\"><ul>\n",
        "<li>Locate the boundary files in your download directory</li>\n",
        "<li>Change <code>'boundary-directory'</code> to the actual location</li>\n",
        "<li>Load the data into Python and check that it worked</li>\n",
        "</ul></div></div>"
      ]
    },
    {
      "cell_type": "code",
      "execution_count": 1,
      "id": "2aa5258e",
      "metadata": {
        "template": "student"
      },
      "outputs": [
        {
          "ename": "NameError",
          "evalue": "name 'gpd' is not defined",
          "output_type": "error",
          "traceback": [
            "\u001b[31m---------------------------------------------------------------------------\u001b[39m",
            "\u001b[31mNameError\u001b[39m                                 Traceback (most recent call last)",
            "\u001b[36mCell\u001b[39m\u001b[36m \u001b[39m\u001b[32mIn[1]\u001b[39m\u001b[32m, line 2\u001b[39m\n\u001b[32m      1\u001b[39m \u001b[38;5;66;03m# Load in the boundary data\u001b[39;00m\n\u001b[32m----> \u001b[39m\u001b[32m2\u001b[39m boundary_gdf = \u001b[43mgpd\u001b[49m.read_file(\n\u001b[32m      3\u001b[39m     project.project_dir / \u001b[33m'\u001b[39m\u001b[33mAl Jawf Region Saudi Arabia\u001b[39m\u001b[33m'\u001b[39m)\n\u001b[32m      4\u001b[39m \u001b[38;5;66;03m# Check that it worked\u001b[39;00m\n",
            "\u001b[31mNameError\u001b[39m: name 'gpd' is not defined"
          ]
        }
      ],
      "source": [
        "# Load in the boundary data\n",
        "boundary_gdf = gpd.read_file(\n",
        "    project.project_dir / 'Al Jawf Region Saudi Arabia')\n",
        "# Check that it worked"
      ]
    },
    {
      "cell_type": "code",
      "execution_count": 5,
      "id": "958b3309",
      "metadata": {
        "template": "student"
      },
      "outputs": [],
      "source": [
        "# Plot the results with web tile images\n",
        "boundary_gdf.hvplot()"
      ]
    },
    {
      "cell_type": "markdown",
      "id": "e8be11c7-eb47-4803-8216-817da0376787",
      "metadata": {},
      "source": [
        "# STEP -1: Wrap up\n",
        "\n",
        "Don’t forget to store your variables so you can use them in other\n",
        "notebooks! Replace `var1` and `var2` with the variable you want to save,\n",
        "separated by spaces."
      ]
    },
    {
      "cell_type": "code",
      "execution_count": 7,
      "id": "0bef6075",
      "metadata": {},
      "outputs": [],
      "source": [
        "%store var1 var2"
      ]
    },
    {
      "cell_type": "markdown",
      "id": "2c476670-6cfd-4c07-ba04-c7185b638fbe",
      "metadata": {},
      "source": [
        "Finally, be sure to `Restart` and `Run all` to make sure your notebook\n",
        "works all the way through!"
      ]
    }
  ],
  "metadata": {
    "kernelspec": {
      "display_name": "base",
      "language": "python",
      "name": "python3"
    },
    "language_info": {
      "codemirror_mode": {
        "name": "ipython",
        "version": 3
      },
      "file_extension": ".py",
      "mimetype": "text/x-python",
      "name": "python",
      "nbconvert_exporter": "python",
      "pygments_lexer": "ipython3",
      "version": "3.11.6"
    }
  },
  "nbformat": 4,
  "nbformat_minor": 5
}
